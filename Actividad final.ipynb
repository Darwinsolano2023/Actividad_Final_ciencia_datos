{
 "cells": [
  {
   "cell_type": "markdown",
   "id": "5829d8a6",
   "metadata": {},
   "source": [
    "# Data Science Tools and Ecosystem"
   ]
  },
  {
   "cell_type": "markdown",
   "id": "762bf7c8",
   "metadata": {},
   "source": [
    "In this notebook, Data Science Tools and Ecosystem are summarized"
   ]
  },
  {
   "cell_type": "markdown",
   "id": "54626245",
   "metadata": {},
   "source": [
    "Lenguajes de Ciencia de Datos:\n",
    "1. Python\n",
    "2. R\n",
    "3. Julia\n",
    "4. SQL\n",
    "5. Scala\n",
    "6. MATLAB\n",
    "7. Java\n",
    "8. Perl\n"
   ]
  },
  {
   "cell_type": "markdown",
   "id": "02002f59",
   "metadata": {},
   "source": [
    "Bibliotecas de Ciencia de Datos:\n",
    "1. Pandas\n",
    "2. NumPy\n",
    "3. Matplotlib\n",
    "4. Scikit-learn\n",
    "5. TensorFlow\n",
    "6. Seaborn\n",
    "7. PyTorch"
   ]
  },
  {
   "cell_type": "markdown",
   "id": "6c148edc",
   "metadata": {},
   "source": [
    "| Herramienta         | Descripción                           |\n",
    "|--------------------|---------------------------------------|\n",
    "| Jupyter Notebook  | Entorno interactivo de programación   |\n",
    "| Tableau            | Herramienta de visualización de datos |\n",
    "| TensorFlow         | Biblioteca de aprendizaje profundo    |\n"
   ]
  },
  {
   "cell_type": "markdown",
   "id": "1ec19fd0",
   "metadata": {},
   "source": [
    "Ejemplos de Expresiones Aritméticas:\n",
    "- Suma: 2 + 3\n",
    "- Resta: 7 - 5\n",
    "- Multiplicación: 4 * 6"
   ]
  },
  {
   "cell_type": "code",
   "execution_count": 3,
   "id": "799e9e99",
   "metadata": {},
   "outputs": [
    {
     "name": "stdout",
     "output_type": "stream",
     "text": [
      "Multiplicación: 28\n",
      "Suma: 11\n"
     ]
    }
   ],
   "source": [
    "# Multiplicar y sumar números\n",
    "a = 4\n",
    "b = 7\n",
    "multiplicacion = a * b\n",
    "suma = a + b\n",
    "print(\"Multiplicación:\", multiplicacion)\n",
    "print(\"Suma:\", suma)"
   ]
  },
  {
   "cell_type": "code",
   "execution_count": 2,
   "id": "a7201e1c",
   "metadata": {},
   "outputs": [
    {
     "name": "stdout",
     "output_type": "stream",
     "text": [
      "145 minutos son 2 horas y 25 minutos.\n"
     ]
    }
   ],
   "source": [
    "# Convertir minutos a horas\n",
    "def convertir_a_horas(minutos):\n",
    "    horas = minutos // 60\n",
    "    minutos_restantes = minutos % 60\n",
    "    return horas, minutos_restantes\n",
    "\n",
    "minutos_totales = 145\n",
    "horas, minutos = convertir_a_horas(minutos_totales)\n",
    "print(f\"{minutos_totales} minutos son {horas} horas y {minutos} minutos.\")"
   ]
  },
  {
   "cell_type": "markdown",
   "id": "f4c1f877",
   "metadata": {},
   "source": [
    "**Objectives:**\n",
    "\n",
    "    - Create markdown cells\n",
    "    - Add comments to code cell\n",
    "    - Add ordered and inodered list to markdown cells\n",
    "    - Format content of markdown cells with heading styles"
   ]
  },
  {
   "cell_type": "markdown",
   "id": "74ccdd37",
   "metadata": {},
   "source": [
    "**Autor.**\n",
    "\n",
    "    Darwin Solano Alvarez"
   ]
  },
  {
   "cell_type": "code",
   "execution_count": null,
   "id": "8e925bf9",
   "metadata": {},
   "outputs": [],
   "source": []
  }
 ],
 "metadata": {
  "kernelspec": {
   "display_name": "Python 3 (ipykernel)",
   "language": "python",
   "name": "python3"
  },
  "language_info": {
   "codemirror_mode": {
    "name": "ipython",
    "version": 3
   },
   "file_extension": ".py",
   "mimetype": "text/x-python",
   "name": "python",
   "nbconvert_exporter": "python",
   "pygments_lexer": "ipython3",
   "version": "3.9.13"
  }
 },
 "nbformat": 4,
 "nbformat_minor": 5
}
