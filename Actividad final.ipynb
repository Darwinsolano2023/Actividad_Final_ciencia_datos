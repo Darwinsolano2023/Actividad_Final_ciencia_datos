{
 "cells": [
  {
   "cell_type": "markdown",
   "id": "c72132bf",
   "metadata": {},
   "source": [
    "# Actividad entregable final - Ciencia de Datos"
   ]
  },
  {
   "cell_type": "markdown",
   "id": "e0541c85",
   "metadata": {},
   "source": [
    "Esta actividad tiene como objetivo explicar el uso de los cuadernos en Jupyter Notebook en el uso de ciencia de datos"
   ]
  },
  {
   "cell_type": "markdown",
   "id": "9c5af019",
   "metadata": {},
   "source": [
    "Lenguajes de Ciencia de Datos:\n",
    "1. Python\n",
    "2. R\n",
    "3. Julia\n"
   ]
  },
  {
   "cell_type": "markdown",
   "id": "f0c95c0c",
   "metadata": {},
   "source": [
    "Bibliotecas de Ciencia de Datos:\n",
    "- Pandas\n",
    "- NumPy\n",
    "- Matplotlib\n",
    "- Scikit-learn"
   ]
  },
  {
   "cell_type": "markdown",
   "id": "5466676d",
   "metadata": {},
   "source": [
    "| Herramienta         | Descripción                           |\n",
    "|--------------------|---------------------------------------|\n",
    "| Jupyter Notebook  | Entorno interactivo de programación   |\n",
    "| Tableau            | Herramienta de visualización de datos |\n",
    "| TensorFlow         | Biblioteca de aprendizaje profundo    |\n"
   ]
  },
  {
   "cell_type": "markdown",
   "id": "976e4ecc",
   "metadata": {},
   "source": [
    "Ejemplos de Expresiones Aritméticas:\n",
    "- Suma: 2 + 3\n",
    "- Resta: 7 - 5\n",
    "- Multiplicación: 4 * 6"
   ]
  },
  {
   "cell_type": "code",
   "execution_count": 1,
   "id": "ff11a27b",
   "metadata": {},
   "outputs": [
    {
     "name": "stdout",
     "output_type": "stream",
     "text": [
      "Multiplicación: 28\n",
      "Suma: 11\n"
     ]
    }
   ],
   "source": [
    "# Multiplicar y sumar números\n",
    "a = 4\n",
    "b = 7\n",
    "multiplicacion = a * b\n",
    "suma = a + b\n",
    "print(\"Multiplicación:\", multiplicacion)\n",
    "print(\"Suma:\", suma)"
   ]
  },
  {
   "cell_type": "code",
   "execution_count": 2,
   "id": "3c948011",
   "metadata": {},
   "outputs": [
    {
     "name": "stdout",
     "output_type": "stream",
     "text": [
      "145 minutos son 2 horas y 25 minutos.\n"
     ]
    }
   ],
   "source": [
    "# Convertir minutos a horas\n",
    "def convertir_a_horas(minutos):\n",
    "    horas = minutos // 60\n",
    "    minutos_restantes = minutos % 60\n",
    "    return horas, minutos_restantes\n",
    "\n",
    "minutos_totales = 145\n",
    "horas, minutos = convertir_a_horas(minutos_totales)\n",
    "print(f\"{minutos_totales} minutos son {horas} horas y {minutos} minutos.\")"
   ]
  },
  {
   "cell_type": "markdown",
   "id": "5f77ae4a",
   "metadata": {},
   "source": [
    "Ejercicio 2: cree una celda de descuento con el título del cuaderno. \n",
    "\n",
    "Ejercicio 3: cree una celda de descuento para una introducción.\n",
    "\n",
    "Ejercicio 4: cree una celda de descuento para enumerar los lenguajes de ciencia de datos. \n",
    "\n",
    "Ejercicio 5: cree una celda de descuento para enumerar las bibliotecas de ciencia de datos.\n",
    "\n",
    "Ejercicio 6: cree una celda de descuento con una tabla de herramientas de ciencia de datos. \n",
    "\n",
    "Ejercicio 7: cree una celda de descuento que presente ejemplos de expresiones aritméticas. \n",
    "\n",
    "Ejercicio 8—Crea una celda de código para multiplicar y sumar números. \n",
    "\n",
    "Ejercicio 9: cree una celda de código para convertir minutos a horas. \n",
    "\n",
    "Ejercicio 10: inserte una celda de descuento para enumerar los objetivos.\n",
    "\n",
    "Ejercicio 11: cree una celda de descuento para indicar el nombre del autor.\n",
    "\n",
    "Ejercicio 12 - Comparte tu cuaderno a través de GitHub\n",
    "\n",
    "Ejercicio 13: haz una captura de pantalla de la primera página del cuaderno."
   ]
  },
  {
   "cell_type": "markdown",
   "id": "cb9c3d5f",
   "metadata": {},
   "source": [
    "Autor. Darwin Solano Alvarez ©"
   ]
  },
  {
   "cell_type": "code",
   "execution_count": null,
   "id": "72c2863f",
   "metadata": {},
   "outputs": [],
   "source": []
  }
 ],
 "metadata": {
  "kernelspec": {
   "display_name": "Python 3 (ipykernel)",
   "language": "python",
   "name": "python3"
  },
  "language_info": {
   "codemirror_mode": {
    "name": "ipython",
    "version": 3
   },
   "file_extension": ".py",
   "mimetype": "text/x-python",
   "name": "python",
   "nbconvert_exporter": "python",
   "pygments_lexer": "ipython3",
   "version": "3.9.13"
  }
 },
 "nbformat": 4,
 "nbformat_minor": 5
}
